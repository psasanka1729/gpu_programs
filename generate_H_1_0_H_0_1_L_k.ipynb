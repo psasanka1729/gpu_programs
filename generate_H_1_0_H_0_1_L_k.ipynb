{
  "nbformat": 4,
  "nbformat_minor": 0,
  "metadata": {
    "colab": {
      "provenance": [],
      "machine_shape": "hm",
      "gpuType": "L4",
      "authorship_tag": "ABX9TyNIQvALC3WdFmbE67E0eOQX",
      "include_colab_link": true
    },
    "kernelspec": {
      "name": "python3",
      "display_name": "Python 3"
    },
    "language_info": {
      "name": "python"
    },
    "accelerator": "GPU"
  },
  "cells": [
    {
      "cell_type": "markdown",
      "metadata": {
        "id": "view-in-github",
        "colab_type": "text"
      },
      "source": [
        "<a href=\"https://colab.research.google.com/github/psasanka1729/gpu_programs/blob/main/generate_H_1_0_H_0_1_L_k.ipynb\" target=\"_parent\"><img src=\"https://colab.research.google.com/assets/colab-badge.svg\" alt=\"Open In Colab\"/></a>"
      ]
    },
    {
      "cell_type": "code",
      "execution_count": null,
      "metadata": {
        "id": "Xau37rDCAVoo"
      },
      "outputs": [],
      "source": [
        "import math\n",
        "import numpy as np\n",
        "# import matplotlib.pyplot as plt\n",
        "from k_local_hamiltonian import KLocalHamiltonian"
      ]
    },
    {
      "cell_type": "code",
      "source": [
        "adjacent = True\n",
        "\n",
        "L = 15\n",
        "k = 7\n",
        "\n",
        "number_of_pauli_strings = (L - k + 1) * 3**k if adjacent else math.comb(L, k) * 3**k\n",
        "\n",
        "random_coefficients_0_1 = np.random.normal(0, 1, number_of_pauli_strings)\n",
        "# np.save(f'random_coefficients_L_{L}_k_{k}_sigma_1_short_ranged.npy', random_coefficients_0_1)\n",
        "\n",
        "hamiltonian_generator = KLocalHamiltonian(L=L, k=k, random_coefficients=random_coefficients_0_1, adjacent=adjacent)\n",
        "\n",
        "pauli_strings = hamiltonian_generator.generate_k_local_pauli_strings()"
      ],
      "metadata": {
        "id": "40Dg_KqpWmJo"
      },
      "execution_count": null,
      "outputs": []
    },
    {
      "cell_type": "code",
      "source": [
        "# import numpy as np\n",
        "# import math\n",
        "# import os\n",
        "# import multiprocessing\n",
        "# import time\n",
        "# from scipy.sparse import save_npz\n",
        "# from k_local_hamiltonian import KLocalHamiltonian\n",
        "\n",
        "# # --- Global variables accessible by worker processes ---\n",
        "# # These are defined globally so we don't need to pass them to each worker,\n",
        "# # which is more efficient.\n",
        "# hamiltonian_generator = None\n",
        "# OUTPUT_DIR = \"pauli_matrices\"\n",
        "\n",
        "# def process_and_save(args):\n",
        "#     \"\"\"\n",
        "#     Worker function that computes one matrix and saves it to a unique .npz file.\n",
        "#     This function will be executed by each core in parallel.\n",
        "\n",
        "#     Args:\n",
        "#         args (tuple): A tuple containing the item's index and its Pauli string.\n",
        "#     \"\"\"\n",
        "#     index, pauli_string = args\n",
        "\n",
        "#     # 1. Compute the matrix for the given Pauli string\n",
        "#     matrix = hamiltonian_generator.tensor_product(pauli_string)\n",
        "\n",
        "#     # 2. Define a unique filename using the index\n",
        "#     filename = os.path.join(OUTPUT_DIR, f\"{pauli_string}.npz\")\n",
        "\n",
        "#     # 3. Save the sparse matrix to the file\n",
        "#     save_npz(filename, matrix)\n",
        "\n",
        "#     # Return the filename for logging or tracking progress\n",
        "#     return filename\n",
        "\n",
        "# if __name__ == \"__main__\":\n",
        "#     adjacent = True\n",
        "#     L = 15\n",
        "#     k = 7 # WARNING: Real L=15, k=7 values will generate millions of files and use immense disk space.\n",
        "\n",
        "#     # --- Setup ---\n",
        "#     number_of_pauli_strings = (L - k + 1) * 3**k if adjacent else math.comb(L, k) * 3**k\n",
        "#     random_coefficients = np.random.normal(0, 1, number_of_pauli_strings)\n",
        "\n",
        "#     # Initialize the generator object. It will be inherited by the worker processes.\n",
        "#     hamiltonian_generator = KLocalHamiltonian(L=L, k=k, random_coefficients=random_coefficients, adjacent=adjacent)\n",
        "#     pauli_strings = hamiltonian_generator.generate_k_local_pauli_strings()\n",
        "\n",
        "#     # --- Parallel Execution ---\n",
        "\n",
        "#     # Create the output directory if it doesn't already exist\n",
        "#     os.makedirs(OUTPUT_DIR, exist_ok=True)\n",
        "#     print(f\"Matrices will be saved in the '{OUTPUT_DIR}/' directory.\")\n",
        "\n",
        "#     # Automatically get the number of available CPU cores\n",
        "#     n_cores = os.cpu_count()\n",
        "#     print(f\"Detected {n_cores} cores. Starting parallel file saving.\")\n",
        "\n",
        "#     # Prepare arguments for the parallel map: a list of (index, pauli_string) tuples\n",
        "#     work_items = enumerate(pauli_strings)\n",
        "\n",
        "#     # Create a pool of workers and distribute the file-saving task\n",
        "#     with multiprocessing.Pool(processes=n_cores) as pool:\n",
        "#         # The map function applies 'process_and_save' to each item in 'work_items'\n",
        "#         saved_files = pool.map(process_and_save, work_items)\n",
        "\n",
        "#     print(f\"\\nProcessing complete. Saved {len(saved_files)} matrix files.\")"
      ],
      "metadata": {
        "colab": {
          "base_uri": "https://localhost:8080/",
          "height": 560
        },
        "id": "wAQcY_W2Wrwu",
        "outputId": "e55742f4-386a-4892-8638-7e78fd49c4d8"
      },
      "execution_count": null,
      "outputs": [
        {
          "output_type": "stream",
          "name": "stdout",
          "text": [
            "Matrices will be saved in the 'pauli_matrices/' directory.\n",
            "Detected 8 cores. Starting parallel file saving.\n"
          ]
        },
        {
          "output_type": "stream",
          "name": "stderr",
          "text": [
            "Process ForkPoolWorker-82:\n",
            "Process ForkPoolWorker-79:\n",
            "Process ForkPoolWorker-80:\n",
            "Process ForkPoolWorker-78:\n",
            "Process ForkPoolWorker-81:\n"
          ]
        },
        {
          "output_type": "error",
          "ename": "KeyboardInterrupt",
          "evalue": "",
          "traceback": [
            "\u001b[0;31m---------------------------------------------------------------------------\u001b[0m",
            "\u001b[0;31mKeyboardInterrupt\u001b[0m                         Traceback (most recent call last)",
            "\u001b[0;32m/tmp/ipython-input-1023970739.py\u001b[0m in \u001b[0;36m<cell line: 0>\u001b[0;34m()\u001b[0m\n\u001b[1;32m     64\u001b[0m     \u001b[0;32mwith\u001b[0m \u001b[0mmultiprocessing\u001b[0m\u001b[0;34m.\u001b[0m\u001b[0mPool\u001b[0m\u001b[0;34m(\u001b[0m\u001b[0mprocesses\u001b[0m\u001b[0;34m=\u001b[0m\u001b[0mn_cores\u001b[0m\u001b[0;34m)\u001b[0m \u001b[0;32mas\u001b[0m \u001b[0mpool\u001b[0m\u001b[0;34m:\u001b[0m\u001b[0;34m\u001b[0m\u001b[0;34m\u001b[0m\u001b[0m\n\u001b[1;32m     65\u001b[0m         \u001b[0;31m# The map function applies 'process_and_save' to each item in 'work_items'\u001b[0m\u001b[0;34m\u001b[0m\u001b[0;34m\u001b[0m\u001b[0m\n\u001b[0;32m---> 66\u001b[0;31m         \u001b[0msaved_files\u001b[0m \u001b[0;34m=\u001b[0m \u001b[0mpool\u001b[0m\u001b[0;34m.\u001b[0m\u001b[0mmap\u001b[0m\u001b[0;34m(\u001b[0m\u001b[0mprocess_and_save\u001b[0m\u001b[0;34m,\u001b[0m \u001b[0mwork_items\u001b[0m\u001b[0;34m)\u001b[0m\u001b[0;34m\u001b[0m\u001b[0;34m\u001b[0m\u001b[0m\n\u001b[0m\u001b[1;32m     67\u001b[0m \u001b[0;34m\u001b[0m\u001b[0m\n\u001b[1;32m     68\u001b[0m     \u001b[0mprint\u001b[0m\u001b[0;34m(\u001b[0m\u001b[0;34mf\"\\nProcessing complete. Saved {len(saved_files)} matrix files.\"\u001b[0m\u001b[0;34m)\u001b[0m\u001b[0;34m\u001b[0m\u001b[0;34m\u001b[0m\u001b[0m\n",
            "\u001b[0;32m/usr/lib/python3.11/multiprocessing/pool.py\u001b[0m in \u001b[0;36mmap\u001b[0;34m(self, func, iterable, chunksize)\u001b[0m\n\u001b[1;32m    365\u001b[0m         \u001b[0;32min\u001b[0m \u001b[0ma\u001b[0m \u001b[0mlist\u001b[0m \u001b[0mthat\u001b[0m \u001b[0;32mis\u001b[0m \u001b[0mreturned\u001b[0m\u001b[0;34m.\u001b[0m\u001b[0;34m\u001b[0m\u001b[0;34m\u001b[0m\u001b[0m\n\u001b[1;32m    366\u001b[0m         '''\n\u001b[0;32m--> 367\u001b[0;31m         \u001b[0;32mreturn\u001b[0m \u001b[0mself\u001b[0m\u001b[0;34m.\u001b[0m\u001b[0m_map_async\u001b[0m\u001b[0;34m(\u001b[0m\u001b[0mfunc\u001b[0m\u001b[0;34m,\u001b[0m \u001b[0miterable\u001b[0m\u001b[0;34m,\u001b[0m \u001b[0mmapstar\u001b[0m\u001b[0;34m,\u001b[0m \u001b[0mchunksize\u001b[0m\u001b[0;34m)\u001b[0m\u001b[0;34m.\u001b[0m\u001b[0mget\u001b[0m\u001b[0;34m(\u001b[0m\u001b[0;34m)\u001b[0m\u001b[0;34m\u001b[0m\u001b[0;34m\u001b[0m\u001b[0m\n\u001b[0m\u001b[1;32m    368\u001b[0m \u001b[0;34m\u001b[0m\u001b[0m\n\u001b[1;32m    369\u001b[0m     \u001b[0;32mdef\u001b[0m \u001b[0mstarmap\u001b[0m\u001b[0;34m(\u001b[0m\u001b[0mself\u001b[0m\u001b[0;34m,\u001b[0m \u001b[0mfunc\u001b[0m\u001b[0;34m,\u001b[0m \u001b[0miterable\u001b[0m\u001b[0;34m,\u001b[0m \u001b[0mchunksize\u001b[0m\u001b[0;34m=\u001b[0m\u001b[0;32mNone\u001b[0m\u001b[0;34m)\u001b[0m\u001b[0;34m:\u001b[0m\u001b[0;34m\u001b[0m\u001b[0;34m\u001b[0m\u001b[0m\n",
            "\u001b[0;32m/usr/lib/python3.11/multiprocessing/pool.py\u001b[0m in \u001b[0;36mget\u001b[0;34m(self, timeout)\u001b[0m\n\u001b[1;32m    766\u001b[0m \u001b[0;34m\u001b[0m\u001b[0m\n\u001b[1;32m    767\u001b[0m     \u001b[0;32mdef\u001b[0m \u001b[0mget\u001b[0m\u001b[0;34m(\u001b[0m\u001b[0mself\u001b[0m\u001b[0;34m,\u001b[0m \u001b[0mtimeout\u001b[0m\u001b[0;34m=\u001b[0m\u001b[0;32mNone\u001b[0m\u001b[0;34m)\u001b[0m\u001b[0;34m:\u001b[0m\u001b[0;34m\u001b[0m\u001b[0;34m\u001b[0m\u001b[0m\n\u001b[0;32m--> 768\u001b[0;31m         \u001b[0mself\u001b[0m\u001b[0;34m.\u001b[0m\u001b[0mwait\u001b[0m\u001b[0;34m(\u001b[0m\u001b[0mtimeout\u001b[0m\u001b[0;34m)\u001b[0m\u001b[0;34m\u001b[0m\u001b[0;34m\u001b[0m\u001b[0m\n\u001b[0m\u001b[1;32m    769\u001b[0m         \u001b[0;32mif\u001b[0m \u001b[0;32mnot\u001b[0m \u001b[0mself\u001b[0m\u001b[0;34m.\u001b[0m\u001b[0mready\u001b[0m\u001b[0;34m(\u001b[0m\u001b[0;34m)\u001b[0m\u001b[0;34m:\u001b[0m\u001b[0;34m\u001b[0m\u001b[0;34m\u001b[0m\u001b[0m\n\u001b[1;32m    770\u001b[0m             \u001b[0;32mraise\u001b[0m \u001b[0mTimeoutError\u001b[0m\u001b[0;34m\u001b[0m\u001b[0;34m\u001b[0m\u001b[0m\n",
            "\u001b[0;32m/usr/lib/python3.11/multiprocessing/pool.py\u001b[0m in \u001b[0;36mwait\u001b[0;34m(self, timeout)\u001b[0m\n\u001b[1;32m    763\u001b[0m \u001b[0;34m\u001b[0m\u001b[0m\n\u001b[1;32m    764\u001b[0m     \u001b[0;32mdef\u001b[0m \u001b[0mwait\u001b[0m\u001b[0;34m(\u001b[0m\u001b[0mself\u001b[0m\u001b[0;34m,\u001b[0m \u001b[0mtimeout\u001b[0m\u001b[0;34m=\u001b[0m\u001b[0;32mNone\u001b[0m\u001b[0;34m)\u001b[0m\u001b[0;34m:\u001b[0m\u001b[0;34m\u001b[0m\u001b[0;34m\u001b[0m\u001b[0m\n\u001b[0;32m--> 765\u001b[0;31m         \u001b[0mself\u001b[0m\u001b[0;34m.\u001b[0m\u001b[0m_event\u001b[0m\u001b[0;34m.\u001b[0m\u001b[0mwait\u001b[0m\u001b[0;34m(\u001b[0m\u001b[0mtimeout\u001b[0m\u001b[0;34m)\u001b[0m\u001b[0;34m\u001b[0m\u001b[0;34m\u001b[0m\u001b[0m\n\u001b[0m\u001b[1;32m    766\u001b[0m \u001b[0;34m\u001b[0m\u001b[0m\n\u001b[1;32m    767\u001b[0m     \u001b[0;32mdef\u001b[0m \u001b[0mget\u001b[0m\u001b[0;34m(\u001b[0m\u001b[0mself\u001b[0m\u001b[0;34m,\u001b[0m \u001b[0mtimeout\u001b[0m\u001b[0;34m=\u001b[0m\u001b[0;32mNone\u001b[0m\u001b[0;34m)\u001b[0m\u001b[0;34m:\u001b[0m\u001b[0;34m\u001b[0m\u001b[0;34m\u001b[0m\u001b[0m\n",
            "\u001b[0;32m/usr/lib/python3.11/threading.py\u001b[0m in \u001b[0;36mwait\u001b[0;34m(self, timeout)\u001b[0m\n\u001b[1;32m    627\u001b[0m             \u001b[0msignaled\u001b[0m \u001b[0;34m=\u001b[0m \u001b[0mself\u001b[0m\u001b[0;34m.\u001b[0m\u001b[0m_flag\u001b[0m\u001b[0;34m\u001b[0m\u001b[0;34m\u001b[0m\u001b[0m\n\u001b[1;32m    628\u001b[0m             \u001b[0;32mif\u001b[0m \u001b[0;32mnot\u001b[0m \u001b[0msignaled\u001b[0m\u001b[0;34m:\u001b[0m\u001b[0;34m\u001b[0m\u001b[0;34m\u001b[0m\u001b[0m\n\u001b[0;32m--> 629\u001b[0;31m                 \u001b[0msignaled\u001b[0m \u001b[0;34m=\u001b[0m \u001b[0mself\u001b[0m\u001b[0;34m.\u001b[0m\u001b[0m_cond\u001b[0m\u001b[0;34m.\u001b[0m\u001b[0mwait\u001b[0m\u001b[0;34m(\u001b[0m\u001b[0mtimeout\u001b[0m\u001b[0;34m)\u001b[0m\u001b[0;34m\u001b[0m\u001b[0;34m\u001b[0m\u001b[0m\n\u001b[0m\u001b[1;32m    630\u001b[0m             \u001b[0;32mreturn\u001b[0m \u001b[0msignaled\u001b[0m\u001b[0;34m\u001b[0m\u001b[0;34m\u001b[0m\u001b[0m\n\u001b[1;32m    631\u001b[0m \u001b[0;34m\u001b[0m\u001b[0m\n",
            "\u001b[0;32m/usr/lib/python3.11/threading.py\u001b[0m in \u001b[0;36mwait\u001b[0;34m(self, timeout)\u001b[0m\n\u001b[1;32m    325\u001b[0m         \u001b[0;32mtry\u001b[0m\u001b[0;34m:\u001b[0m    \u001b[0;31m# restore state no matter what (e.g., KeyboardInterrupt)\u001b[0m\u001b[0;34m\u001b[0m\u001b[0;34m\u001b[0m\u001b[0m\n\u001b[1;32m    326\u001b[0m             \u001b[0;32mif\u001b[0m \u001b[0mtimeout\u001b[0m \u001b[0;32mis\u001b[0m \u001b[0;32mNone\u001b[0m\u001b[0;34m:\u001b[0m\u001b[0;34m\u001b[0m\u001b[0;34m\u001b[0m\u001b[0m\n\u001b[0;32m--> 327\u001b[0;31m                 \u001b[0mwaiter\u001b[0m\u001b[0;34m.\u001b[0m\u001b[0macquire\u001b[0m\u001b[0;34m(\u001b[0m\u001b[0;34m)\u001b[0m\u001b[0;34m\u001b[0m\u001b[0;34m\u001b[0m\u001b[0m\n\u001b[0m\u001b[1;32m    328\u001b[0m                 \u001b[0mgotit\u001b[0m \u001b[0;34m=\u001b[0m \u001b[0;32mTrue\u001b[0m\u001b[0;34m\u001b[0m\u001b[0;34m\u001b[0m\u001b[0m\n\u001b[1;32m    329\u001b[0m             \u001b[0;32melse\u001b[0m\u001b[0;34m:\u001b[0m\u001b[0;34m\u001b[0m\u001b[0;34m\u001b[0m\u001b[0m\n",
            "\u001b[0;31mKeyboardInterrupt\u001b[0m: "
          ]
        }
      ]
    },
    {
      "cell_type": "code",
      "source": [
        "# # 1. Uninstall all existing CuPy versions to resolve the conflict\n",
        "# !pip uninstall -y cupy-cuda11x cupy-cuda12x\n",
        "\n",
        "# # 2. Install the correct CuPy version for Colab's current CUDA toolkit (12.x)\n",
        "# !pip install cupy-cuda12x"
      ],
      "metadata": {
        "colab": {
          "base_uri": "https://localhost:8080/",
          "height": 394
        },
        "id": "Jyb8l2MPbGmF",
        "outputId": "751af401-a9eb-4835-8b3f-a439c4542fd7"
      },
      "execution_count": null,
      "outputs": [
        {
          "output_type": "stream",
          "name": "stdout",
          "text": [
            "Found existing installation: cupy-cuda11x 13.5.1\n",
            "Uninstalling cupy-cuda11x-13.5.1:\n",
            "  Successfully uninstalled cupy-cuda11x-13.5.1\n",
            "Found existing installation: cupy-cuda12x 13.3.0\n",
            "Uninstalling cupy-cuda12x-13.3.0:\n",
            "  Successfully uninstalled cupy-cuda12x-13.3.0\n",
            "Collecting cupy-cuda12x\n",
            "  Downloading cupy_cuda12x-13.5.1-cp311-cp311-manylinux2014_x86_64.whl.metadata (2.4 kB)\n",
            "Requirement already satisfied: numpy<2.6,>=1.22 in /usr/local/lib/python3.11/dist-packages (from cupy-cuda12x) (2.0.2)\n",
            "Requirement already satisfied: fastrlock>=0.5 in /usr/local/lib/python3.11/dist-packages (from cupy-cuda12x) (0.8.3)\n",
            "Downloading cupy_cuda12x-13.5.1-cp311-cp311-manylinux2014_x86_64.whl (113.2 MB)\n",
            "\u001b[2K   \u001b[90m━━━━━━━━━━━━━━━━━━━━━━━━━━━━━━━━━━━━━━━━\u001b[0m \u001b[32m113.2/113.2 MB\u001b[0m \u001b[31m21.8 MB/s\u001b[0m eta \u001b[36m0:00:00\u001b[0m\n",
            "\u001b[?25hInstalling collected packages: cupy-cuda12x\n",
            "Successfully installed cupy-cuda12x-13.5.1\n"
          ]
        },
        {
          "output_type": "display_data",
          "data": {
            "application/vnd.colab-display-data+json": {
              "pip_warning": {
                "packages": [
                  "cupy",
                  "cupy_backends",
                  "cupyx"
                ]
              },
              "id": "cd7804ecef4e4f06a242542b676df1c1"
            }
          },
          "metadata": {}
        }
      ]
    },
    {
      "cell_type": "code",
      "source": [
        "# If you haven't already, ensure the correct CuPy version is installed\n",
        "# !pip uninstall -y cupy-cuda11x cupy-cuda12x\n",
        "# !pip install cupy-cuda12x\n",
        "# Then restart the session: Runtime -> Restart session\n",
        "\n",
        "import cupy as cp\n",
        "import cupyx.scipy.sparse as cupy_sparse\n",
        "import numpy as np\n",
        "import math\n",
        "import os\n",
        "import time\n",
        "import itertools\n",
        "from scipy.sparse import save_npz\n",
        "\n",
        "class GPUKLocalHamiltonian:\n",
        "    \"\"\"\n",
        "    A GPU-aware class. This version now systematically generates all\n",
        "    k-local Pauli strings instead of a random subset.\n",
        "    \"\"\"\n",
        "    def __init__(self, L, k, random_coefficients, adjacent):\n",
        "        self.L = L\n",
        "        self.k = k\n",
        "        self.adjacent = adjacent\n",
        "        self.coeffs = cp.asarray(random_coefficients)\n",
        "\n",
        "        # Define Pauli matrices directly on the GPU\n",
        "        self.pauli_map = {\n",
        "            'I': cupy_sparse.identity(2, format='csc', dtype=cp.complex128),\n",
        "            'X': cupy_sparse.csc_matrix(cp.array([[0, 1], [1, 0]], dtype=cp.complex128)),\n",
        "            'Y': cupy_sparse.csc_matrix(cp.array([[0, -1j], [1j, 0]], dtype=cp.complex128)),\n",
        "            'Z': cupy_sparse.csc_matrix(cp.array([[1, 0], [0, -1]], dtype=cp.complex128))\n",
        "        }\n",
        "\n",
        "    def generate_k_local_pauli_strings(self):\n",
        "        \"\"\"\n",
        "        Systematically generates all k-local Pauli strings of length L.\n",
        "        A k-local string has k non-identity operators.\n",
        "        \"\"\"\n",
        "        generated_strings = []\n",
        "        pauli_chars_non_identity = ['X', 'Y', 'Z']\n",
        "\n",
        "        # Define the set of positions for the non-identity operators\n",
        "        if self.adjacent:\n",
        "            # Positions are contiguous blocks of size k\n",
        "            position_sets = [tuple(range(i, i + self.k)) for i in range(self.L - self.k + 1)]\n",
        "        else:\n",
        "            # Positions can be any combination of k indices\n",
        "            position_sets = list(itertools.combinations(range(self.L), self.k))\n",
        "\n",
        "        # Generate all possible strings of 'X', 'Y', 'Z' of length k\n",
        "        k_strings = list(itertools.product(pauli_chars_non_identity, repeat=self.k))\n",
        "\n",
        "        # Combine the positions and the k-strings to create the full Pauli strings\n",
        "        for positions in position_sets:\n",
        "            for k_str in k_strings:\n",
        "                final_string_list = ['I'] * self.L\n",
        "                for i, pos in enumerate(positions):\n",
        "                    final_string_list[pos] = k_str[i]\n",
        "                generated_strings.append(\"\".join(final_string_list))\n",
        "\n",
        "        return generated_strings\n",
        "\n",
        "    def tensor_product(self, pauli_string):\n",
        "        \"\"\"Computes the tensor product on the GPU based on the input string.\"\"\"\n",
        "        matrices_to_multiply = [self.pauli_map[char] for char in pauli_string]\n",
        "        final_matrix = matrices_to_multiply[0]\n",
        "        for i in range(1, len(matrices_to_multiply)):\n",
        "            final_matrix = cupy_sparse.kron(final_matrix, matrices_to_multiply[i])\n",
        "        return final_matrix\n",
        "\n",
        "if __name__ == \"__main__\":\n",
        "    # --- GPU Availability Check ---\n",
        "    try:\n",
        "        device_id = cp.cuda.runtime.getDevice()\n",
        "        print(f\"GPU Device {device_id} detected. Running on GPU.\")\n",
        "    except cp.cuda.runtime.CUDARuntimeError as e:\n",
        "        print(f\"GPU not detected or CuPy installation issue. Error: {e}\")\n",
        "        exit()\n",
        "\n",
        "    # --- Setup ---\n",
        "    adjacent = True\n",
        "    # NOTE: Using smaller L and k for a quick demonstration.\n",
        "    # You can set these back to L=15, k=7 for your full computation.\n",
        "    L = 15\n",
        "    k = 7\n",
        "    OUTPUT_DIR = \"gpu_pauli_matrices\"\n",
        "\n",
        "    os.makedirs(OUTPUT_DIR, exist_ok=True)\n",
        "    print(f\"Matrices will be saved in the '{OUTPUT_DIR}/' directory.\")\n",
        "\n",
        "    number_of_pauli_strings = (L - k + 1) * (3**k) if adjacent else math.comb(L, k) * (3**k)\n",
        "    random_coefficients_cpu = np.random.normal(0, 1, number_of_pauli_strings)\n",
        "\n",
        "    gpu_hamiltonian_generator = GPUKLocalHamiltonian(L=L, k=k, random_coefficients=random_coefficients_cpu, adjacent=adjacent)\n",
        "    pauli_strings = gpu_hamiltonian_generator.generate_k_local_pauli_strings()\n",
        "\n",
        "    # --- SAVE THE GENERATED PAULI STRINGS TO A FILE ---\n",
        "    strings_filename = \"pauli_strings.txt\"\n",
        "    with open(strings_filename, 'w') as f:\n",
        "        for string in pauli_strings:\n",
        "            f.write(f\"{string}\\n\")\n",
        "    print(f\"Successfully saved {len(pauli_strings)} Pauli strings to '{strings_filename}'.\")\n",
        "\n",
        "    # --- Sequential Execution on GPU ---\n",
        "    print(f\"\\nStarting computation for {len(pauli_strings)} matrices on the GPU...\")\n",
        "    start_time = time.time()\n",
        "\n",
        "    for pauli_string in pauli_strings:\n",
        "        gpu_matrix = gpu_hamiltonian_generator.tensor_product(pauli_string)\n",
        "        cpu_matrix = gpu_matrix.get()\n",
        "        filename = os.path.join(OUTPUT_DIR, f\"{pauli_string}.npz\")\n",
        "        save_npz(filename, cpu_matrix)\n",
        "\n",
        "    end_time = time.time()\n",
        "    print(f\"\\nProcessing complete. Saved {len(pauli_strings)} matrix files in {end_time - start_time:.2f} seconds.\")"
      ],
      "metadata": {
        "colab": {
          "base_uri": "https://localhost:8080/"
        },
        "id": "mox0lDYQbtJI",
        "outputId": "fb0edf1e-70fc-4ca5-c32c-e6961ce00a05"
      },
      "execution_count": null,
      "outputs": [
        {
          "output_type": "stream",
          "name": "stdout",
          "text": [
            "GPU Device 0 detected. Running on GPU.\n",
            "Matrices will be saved in the 'gpu_pauli_matrices/' directory.\n",
            "Starting computation for 10 matrices on the GPU...\n",
            "\n",
            "Processing complete. Saved 10 matrix files in 0.64 seconds.\n",
            "Example filenames: ['ZIYZIIYZIYIIXII.npz', 'YIIIIIZIZIYYXYI.npz', 'YIYIIIXYIXIIZXI.npz', 'IIYXIYZXIXIIIYI.npz', 'YIXIZIIIIIIXZXZ.npz']\n"
          ]
        }
      ]
    },
    {
      "cell_type": "code",
      "source": [
        "import cupy as cp\n",
        "import cupyx.scipy.sparse as cupy_sparse\n",
        "import numpy as np\n",
        "from itertools import combinations, product\n",
        "from functools import reduce\n",
        "from scipy.sparse import save_npz # Keep for saving the final result on the CPU\n",
        "import math\n",
        "import os\n",
        "import time\n",
        "\n",
        "class GPUKLocalHamiltonian:\n",
        "    \"\"\"\n",
        "    Constructs and processes k-local Pauli strings on the GPU using CuPy.\n",
        "    \"\"\"\n",
        "    def __init__(self, L, k, adjacent=True):\n",
        "        self.L = L\n",
        "        self.k = k\n",
        "        self.adjacent = adjacent\n",
        "        self.paulis = ['X', 'Y', 'Z']\n",
        "        # String generation is a lightweight CPU task\n",
        "        self.k_local_paulis = self.generate_k_local_pauli_strings()\n",
        "\n",
        "    def pauli_matrix(self, p):\n",
        "        \"\"\"Returns the sparse CuPy matrix for a single Pauli operator.\"\"\"\n",
        "        if p == \"I\":\n",
        "            return cupy_sparse.identity(2, format=\"csr\", dtype=cp.complex128)\n",
        "        elif p == \"X\":\n",
        "            return cupy_sparse.csr_matrix(cp.array([[0, 1], [1, 0]], dtype=cp.complex128))\n",
        "        elif p == \"Y\":\n",
        "            return cupy_sparse.csr_matrix(cp.array([[0, -1j], [1j, 0]], dtype=cp.complex128))\n",
        "        elif p == \"Z\":\n",
        "            return cupy_sparse.csr_matrix(cp.array([[1, 0], [0, -1]], dtype=cp.complex128))\n",
        "        else:\n",
        "            raise ValueError(f\"Invalid Pauli operator: {p}\")\n",
        "\n",
        "    def tensor_product(self, pauli_string):\n",
        "        \"\"\"Computes the tensor product for a full Pauli string on the GPU.\"\"\"\n",
        "        matrices = [self.pauli_matrix(p) for p in pauli_string]\n",
        "        return reduce(cupy_sparse.kron, matrices)\n",
        "\n",
        "    def generate_k_local_pauli_strings(self):\n",
        "        \"\"\"Generates all k-local Pauli strings on the CPU.\"\"\"\n",
        "        pauli_strings = []\n",
        "        if self.adjacent:\n",
        "            for i in range(self.L - self.k + 1):\n",
        "                for active_ops in product(self.paulis, repeat=self.k):\n",
        "                    pauli_string = ['I'] * self.L\n",
        "                    for offset, P in enumerate(active_ops):\n",
        "                        pauli_string[i + offset] = P\n",
        "                    pauli_strings.append(\"\".join(pauli_string))\n",
        "        else: # Non-adjacent\n",
        "            for indices in combinations(range(self.L), self.k):\n",
        "                for active_ops in product(self.paulis, repeat=self.k):\n",
        "                    pauli_string = ['I'] * self.L\n",
        "                    for idx, P in zip(indices, active_ops):\n",
        "                        pauli_string[idx] = P\n",
        "                    pauli_strings.append(\"\".join(pauli_string))\n",
        "        return pauli_strings\n",
        "\n",
        "# --- Main execution block ---\n",
        "if __name__ == \"__main__\":\n",
        "    # --- GPU Check ---\n",
        "    try:\n",
        "        device_id = cp.cuda.runtime.getDevice()\n",
        "        print(f\"✅ GPU Device {device_id} detected. Running on GPU.\")\n",
        "    except cp.cuda.runtime.CUDARuntimeError as e:\n",
        "        print(f\"GPU not detected or CuPy installation issue. Error: {e}\")\n",
        "        exit()\n",
        "\n",
        "    # --- 1. Set Parameters ---\n",
        "    adjacent = True\n",
        "    # NOTE: Using smaller L and k for a quick demonstration.\n",
        "    L = 17\n",
        "    k = 7\n",
        "    OUTPUT_DIR = \"pauli_string_matrices\"\n",
        "    os.makedirs(OUTPUT_DIR, exist_ok=True)\n",
        "    print(f\"Setting up for L={L}, k={k}, adjacent={adjacent}\")\n",
        "    print(f\"Matrices will be saved in '{OUTPUT_DIR}/'\")\n",
        "\n",
        "    # --- 2. Instantiate the Builder ---\n",
        "    gpu_hamiltonian_builder = GPUKLocalHamiltonian(L=L, k=k, adjacent=adjacent)\n",
        "    pauli_strings = gpu_hamiltonian_builder.k_local_paulis\n",
        "    print(f\"Generated {len(pauli_strings)} Pauli strings.\")\n",
        "\n",
        "    # --- 3. Compute and Save Each Matrix ---\n",
        "    print(\"\\nProcessing and saving each Pauli string matrix...\")\n",
        "    start_time = time.time()\n",
        "\n",
        "    for pauli_string in pauli_strings:\n",
        "        # Compute the tensor product on the GPU\n",
        "        gpu_matrix = gpu_hamiltonian_builder.tensor_product(pauli_string)\n",
        "\n",
        "        # Move the result to the CPU for saving\n",
        "        cpu_matrix = gpu_matrix.get()\n",
        "\n",
        "        # Save the matrix with its string as the filename\n",
        "        filename = os.path.join(OUTPUT_DIR, f\"{pauli_string}.npz\")\n",
        "        save_npz(filename, cpu_matrix)\n",
        "\n",
        "    cp.cuda.Stream.null.synchronize() # Wait for all GPU operations to finish\n",
        "    end_time = time.time()\n",
        "\n",
        "    print(f\"\\nProcessing complete. Saved {len(pauli_strings)} matrix files in {end_time - start_time:.2f} seconds.\")\n",
        "    print(\"Example filenames:\", os.listdir(OUTPUT_DIR)[:5])"
      ],
      "metadata": {
        "colab": {
          "base_uri": "https://localhost:8080/"
        },
        "id": "MIarFjyMhtgW",
        "outputId": "2155038c-2833-4f71-9d2e-a8966509f978"
      },
      "execution_count": null,
      "outputs": [
        {
          "output_type": "stream",
          "name": "stdout",
          "text": [
            "✅ GPU Device 0 detected. Running on GPU.\n",
            "Setting up for L=17, k=7, adjacent=True\n",
            "Matrices will be saved in 'pauli_string_matrices/'\n",
            "Generated 24057 Pauli strings.\n",
            "\n",
            "Processing and saving each Pauli string matrix...\n",
            "\n",
            "Processing complete. Saved 24057 matrix files in 4393.98 seconds.\n",
            "Example filenames: ['IIIIIIIIZYYYXYXII.npz', 'IIIIIIIIIYXXYZYZI.npz', 'IIIIIYZXZZXZIIIII.npz', 'IXZZZZZYIIIIIIIII.npz', 'IIYZZYYXZIIIIIIII.npz']\n"
          ]
        }
      ]
    },
    {
      "cell_type": "code",
      "source": [
        "!zip -r /content/pauli_string_matrices.zip /content/pauli_string_matrices\n",
        "# from google.colab import files\n",
        "# files.download('/content/pauli_string_matrices.zip')"
      ],
      "metadata": {
        "colab": {
          "base_uri": "https://localhost:8080/",
          "height": 35
        },
        "id": "Q5K2ayErodMQ",
        "outputId": "32aa4ddc-cce9-4c93-afcd-dc8f840fc5c4"
      },
      "execution_count": null,
      "outputs": [
        {
          "output_type": "display_data",
          "data": {
            "text/plain": [
              "<IPython.core.display.Javascript object>"
            ],
            "application/javascript": [
              "\n",
              "    async function download(id, filename, size) {\n",
              "      if (!google.colab.kernel.accessAllowed) {\n",
              "        return;\n",
              "      }\n",
              "      const div = document.createElement('div');\n",
              "      const label = document.createElement('label');\n",
              "      label.textContent = `Downloading \"${filename}\": `;\n",
              "      div.appendChild(label);\n",
              "      const progress = document.createElement('progress');\n",
              "      progress.max = size;\n",
              "      div.appendChild(progress);\n",
              "      document.body.appendChild(div);\n",
              "\n",
              "      const buffers = [];\n",
              "      let downloaded = 0;\n",
              "\n",
              "      const channel = await google.colab.kernel.comms.open(id);\n",
              "      // Send a message to notify the kernel that we're ready.\n",
              "      channel.send({})\n",
              "\n",
              "      for await (const message of channel.messages) {\n",
              "        // Send a message to notify the kernel that we're ready.\n",
              "        channel.send({})\n",
              "        if (message.buffers) {\n",
              "          for (const buffer of message.buffers) {\n",
              "            buffers.push(buffer);\n",
              "            downloaded += buffer.byteLength;\n",
              "            progress.value = downloaded;\n",
              "          }\n",
              "        }\n",
              "      }\n",
              "      const blob = new Blob(buffers, {type: 'application/binary'});\n",
              "      const a = document.createElement('a');\n",
              "      a.href = window.URL.createObjectURL(blob);\n",
              "      a.download = filename;\n",
              "      div.appendChild(a);\n",
              "      a.click();\n",
              "      div.remove();\n",
              "    }\n",
              "  "
            ]
          },
          "metadata": {}
        },
        {
          "output_type": "display_data",
          "data": {
            "text/plain": [
              "<IPython.core.display.Javascript object>"
            ],
            "application/javascript": [
              "download(\"download_dbd10250-20aa-48e8-889e-2c632361c508\", \"pauli_string_matrices.zip\", 177323922)"
            ]
          },
          "metadata": {}
        }
      ]
    }
  ]
}